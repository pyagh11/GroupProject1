{
 "cells": [
  {
   "cell_type": "code",
   "execution_count": 24,
   "metadata": {},
   "outputs": [],
   "source": [
    "import mandatory_libraries as ml\n",
    "import API_Integration as api\n",
    "import plotly.graph_objs as go"
   ]
  },
  {
   "cell_type": "code",
   "execution_count": null,
   "metadata": {},
   "outputs": [],
   "source": [
    "df = api.set_final_df()\n"
   ]
  },
  {
   "cell_type": "code",
   "execution_count": null,
   "metadata": {},
   "outputs": [
    {
     "name": "stdout",
     "output_type": "stream",
     "text": [
      "Dash is running on http://127.0.0.1:8050/\n",
      "\n",
      "Dash is running on http://127.0.0.1:8050/\n",
      "\n",
      " * Serving Flask app \"__main__\" (lazy loading)\n",
      " * Environment: production\n",
      "\u001b[31m   WARNING: This is a development server. Do not use it in a production deployment.\u001b[0m\n",
      "\u001b[2m   Use a production WSGI server instead.\u001b[0m\n",
      " * Debug mode: off\n"
     ]
    },
    {
     "name": "stderr",
     "output_type": "stream",
     "text": [
      " * Running on http://127.0.0.1:8050/ (Press CTRL+C to quit)\n",
      "127.0.0.1 - - [13/May/2021 22:28:24] \"\u001b[37mGET / HTTP/1.1\u001b[0m\" 200 -\n",
      "127.0.0.1 - - [13/May/2021 22:28:24] \"\u001b[37mGET /_dash-layout HTTP/1.1\u001b[0m\" 200 -\n",
      "127.0.0.1 - - [13/May/2021 22:28:24] \"\u001b[37mGET /_dash-dependencies HTTP/1.1\u001b[0m\" 200 -\n",
      "127.0.0.1 - - [13/May/2021 22:28:24] \"\u001b[37mGET /_favicon.ico?v=1.19.0 HTTP/1.1\u001b[0m\" 200 -\n",
      "127.0.0.1 - - [13/May/2021 22:28:24] \"\u001b[37mPOST /_dash-update-component HTTP/1.1\u001b[0m\" 200 -\n"
     ]
    }
   ],
   "source": [
    "app = ml.dash.Dash()\n",
    "\n",
    "year_options = []\n",
    "for year in df['year'].unique():\n",
    "    year_options.append({'label':str(year),'value':year})\n",
    "    \n",
    "\n",
    "app.layout = ml.html.Div([\n",
    "    ml.html.H1('Crypto Dashboard'),\n",
    "    ml.dcc.Graph(id='graph'),\n",
    "    ml.dcc.Dropdown(id='year-picker',options=year_options,value=df['year'].max())\n",
    "\n",
    "])\n",
    "\n",
    "@app.callback(ml.Output('graph', 'figure'),\n",
    "              [ml.Input('year-picker', 'value')])\n",
    "\n",
    "def update_figure(selected_year):\n",
    "    filtered_df = df[df['year'] == selected_year]\n",
    "    traces = []\n",
    "    for country_name in filtered_df['crypto_currency'].unique():\n",
    "        df_by_crypto = filtered_df[filtered_df['crypto_currency'] == country_name]\n",
    "        \n",
    "        traces.append(go.Scatter(\n",
    "            x=df_by_crypto['avg_wage_value'],\n",
    "            y=df_by_crypto['avg_wage_crypto_value'],\n",
    "            text=df_by_crypto['country_name'],\n",
    "            mode='markers',\n",
    "            opacity=0.9,\n",
    "            marker={'size': 12},\n",
    "            name=country_name,\n",
    "            \n",
    "        ))\n",
    "\n",
    "    return {\n",
    "        'data': traces,\n",
    "        'layout': go.Layout(\n",
    "            xaxis={'type': 'log', 'title': 'Average Wage in USD'},\n",
    "            yaxis={'title': 'Average Wage in Crypto USD'},\n",
    "            hovermode='closest'\n",
    "        )\n",
    "    }\n",
    "\n",
    "if __name__ == '__main__':\n",
    "    app.run_server()"
   ]
  },
  {
   "cell_type": "code",
   "execution_count": null,
   "metadata": {},
   "outputs": [],
   "source": []
  },
  {
   "cell_type": "code",
   "execution_count": null,
   "metadata": {},
   "outputs": [],
   "source": []
  }
 ],
 "metadata": {
  "kernelspec": {
   "display_name": "Python [conda env:pyvizenv] *",
   "language": "python",
   "name": "conda-env-pyvizenv-py"
  },
  "language_info": {
   "codemirror_mode": {
    "name": "ipython",
    "version": 3
   },
   "file_extension": ".py",
   "mimetype": "text/x-python",
   "name": "python",
   "nbconvert_exporter": "python",
   "pygments_lexer": "ipython3",
   "version": "3.7.9"
  }
 },
 "nbformat": 4,
 "nbformat_minor": 4
}
